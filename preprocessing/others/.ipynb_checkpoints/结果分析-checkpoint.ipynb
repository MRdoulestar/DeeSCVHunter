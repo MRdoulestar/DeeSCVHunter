{
 "cells": [
  {
   "cell_type": "code",
   "execution_count": 1,
   "metadata": {},
   "outputs": [],
   "source": [
    "with open('../label/reentrancy/reentrancy_contract_label.txt','r') as f:\n",
    "    labels = f.readlines()\n",
    "    reen_labels = [label.strip() for label in labels]\n",
    "with open('../label/reentrancy/reentrancy_contract_name.txt','r') as f:\n",
    "    names = f.readlines()\n",
    "    reen_names = [name.strip() for name in names]\n",
    "    \n",
    "with open('../label/timestamp/timestamp_contract_label.txt','r') as f:\n",
    "    labels = f.readlines()\n",
    "    timestamp_labels = [label.strip() for label in labels]\n",
    "with open('../label/timestamp/timestamp_contract_name.txt','r') as f:\n",
    "    names = f.readlines()\n",
    "    timestamp_names = [name.strip() for name in names]\n"
   ]
  },
  {
   "cell_type": "code",
   "execution_count": 2,
   "metadata": {},
   "outputs": [],
   "source": [
    "import os"
   ]
  },
  {
   "cell_type": "code",
   "execution_count": null,
   "metadata": {},
   "outputs": [],
   "source": [
    "# 重入漏洞检测"
   ]
  },
  {
   "cell_type": "code",
   "execution_count": 23,
   "metadata": {},
   "outputs": [
    {
     "name": "stdout",
     "output_type": "stream",
     "text": [
      "26 44 88 27\n",
      "\n",
      "A: 0.6162162162162163\n",
      "P: 0.37142857142857144\n",
      "R: 0.49056603773584906\n",
      "F1: 0.42276422764227645\n"
     ]
    }
   ],
   "source": [
    "# osiris  可以检测时间戳\n",
    "path = './smartbug检测结果/osiris/20202812_1102/'\n",
    "dirs = os.listdir(path)\n",
    "reentrancy = []\n",
    "for fileid in dirs:\n",
    "    if fileid == '.DS_Store':\n",
    "        continue\n",
    "    with open(path + fileid + '/result.json','r') as f:\n",
    "        result = eval(f.read())\n",
    "    analysis = result['analysis']\n",
    "    # 分析结果不为空\n",
    "    if not analysis == []:\n",
    "        # 遍历分结果\n",
    "        for ana in analysis:\n",
    "            # 错误信息不为空\n",
    "            if not ana['errors'] == []:\n",
    "                # 遍历错误信息\n",
    "                for error in ana['errors']:\n",
    "                    if error['message'] == 'reentrancy_bug':\n",
    "                        reentrancy.append(fileid)\n",
    "reentrancy = list(set(reentrancy))\n",
    "# 校验标签 计算指标\n",
    "tp = 0\n",
    "tn = 0\n",
    "fp = 0\n",
    "fn = 0\n",
    "for k,label in enumerate(reen_labels):\n",
    "    if label == '1' and reen_names[k].split('.')[0] in reentrancy:\n",
    "        tp += 1\n",
    "    elif label == '0' and reen_names[k].split('.')[0] not in reentrancy:\n",
    "        tn += 1\n",
    "    elif label == '1' and reen_names[k].split('.')[0] not in reentrancy:\n",
    "        fn += 1\n",
    "    elif label == '0' and reen_names[k].split('.')[0] in reentrancy:\n",
    "        fp += 1\n",
    "\n",
    "print(tp, fp, tn, fn)\n",
    "print()\n",
    "print('A:', (tp+tn)/len(reen_labels))\n",
    "print('P:', tp/(tp+fp))\n",
    "print('R:', tp/(tp+fn))\n",
    "print('F1:', (tp*2)/(tp*2 + fp + fn))"
   ]
  },
  {
   "cell_type": "code",
   "execution_count": null,
   "metadata": {},
   "outputs": [],
   "source": []
  },
  {
   "cell_type": "code",
   "execution_count": 28,
   "metadata": {},
   "outputs": [
    {
     "name": "stdout",
     "output_type": "stream",
     "text": [
      "31 54 78 22\n",
      "\n",
      "A: 0.5891891891891892\n",
      "P: 0.36470588235294116\n",
      "R: 0.5849056603773585\n",
      "F1: 0.4492753623188406\n"
     ]
    }
   ],
   "source": [
    "# slither\n",
    "path = './smartbug检测结果/slither/20202812_1102/'\n",
    "dirs = os.listdir(path)\n",
    "reentrancy = []\n",
    "for fileid in dirs:\n",
    "    if fileid == '.DS_Store':\n",
    "        continue\n",
    "    with open(path + fileid + '/result.json','r') as f:\n",
    "        result = eval(f.read().replace('true', 'True').replace('false', 'False'))\n",
    "    analysis = result['analysis']\n",
    "    # 分析结果不为空\n",
    "    if not analysis == []:\n",
    "        # 遍历分结果\n",
    "        for ana in analysis:\n",
    "            # 错误信息不为空\n",
    "            if 'reentrancy' in ana['check']:\n",
    "                reentrancy.append(fileid)\n",
    "reentrancy = list(set(reentrancy))\n",
    "# 校验标签 计算指标\n",
    "tp = 0\n",
    "tn = 0\n",
    "fp = 0\n",
    "fn = 0\n",
    "for k,label in enumerate(reen_labels):\n",
    "    if label == '1' and reen_names[k].split('.')[0] in reentrancy:\n",
    "        tp += 1\n",
    "    elif label == '0' and reen_names[k].split('.')[0] not in reentrancy:\n",
    "        tn += 1\n",
    "    elif label == '1' and reen_names[k].split('.')[0] not in reentrancy:\n",
    "        fn += 1\n",
    "    elif label == '0' and reen_names[k].split('.')[0] in reentrancy:\n",
    "        fp += 1\n",
    "\n",
    "print(tp, fp, tn, fn)\n",
    "print()\n",
    "print('A:', (tp+tn)/len(reen_labels))\n",
    "print('P:', tp/(tp+fp))\n",
    "print('R:', tp/(tp+fn))\n",
    "print('F1:', (tp*2)/(tp*2 + fp + fn))"
   ]
  },
  {
   "cell_type": "code",
   "execution_count": null,
   "metadata": {},
   "outputs": [],
   "source": [
    "# oyente\n",
    "# tp fp tn fn\n",
    "# 26 21 111 27\n",
    "\n",
    "# A 74.05% \n",
    "# p 49.06%\n",
    "# R 55.32%\n",
    "# F1 52%"
   ]
  },
  {
   "cell_type": "code",
   "execution_count": null,
   "metadata": {},
   "outputs": [],
   "source": [
    "# mythril\n",
    "# tp fp tn fn\n",
    "# 15 30 102 38\n",
    "\n",
    "# A 63.24%\n",
    "# p 28.30%\n",
    "# R 33.33%\n",
    "# F1 30.61%"
   ]
  },
  {
   "cell_type": "code",
   "execution_count": null,
   "metadata": {},
   "outputs": [],
   "source": [
    "oyente\n",
    "reentrance\tTP:26\tFP:21\tTN:111\tFN:27\tAccuracy:0.7405405405405405\tRecall:0.49056603773584906\tPrecision:0.5531914893617021\tF1:0.52\n",
    "timestamp\tTP:23\tFP:24\tTN:89\tFN:49\tAccuracy:0.6054054054054054\tRecall:0.3194444444444444\tPrecision:0.48936170212765956\tF1:0.3865546218487395\n",
    "mythril\n",
    "reentrance\tTP:15\tFP:30\tTN:102\tFN:38\tAccuracy:0.6324324324324324\tRecall:0.2830188679245283\tPrecision:0.3333333333333333\tF1:0.30612244897959184\n",
    "timestamp\tTP:24\tFP:17\tTN:96\tFN:48\tAccuracy:0.6486486486486487\tRecall:0.3333333333333333\tPrecision:0.5853658536585366\tF1:0.42477876106194684\n",
    "securify\n",
    "reentrance\tTP:27\tFP:18\tTN:114\tFN:26\tAccuracy:0.7621621621621621\tRecall:0.5094339622641509\tPrecision:0.6\tF1:0.5510204081632653\n",
    "smartcheck\n",
    "reentrance\tTP:14\tFP:27\tTN:115\tFN:39\tAccuracy:0.6615384615384615\tRecall:0.2641509433962264\tPrecision:0.34146341463414637\tF1:0.2978723404255319\n",
    "timestamp\tTP:21\tFP:21\tTN:92\tFN:51\tAccuracy:0.6108108108108108\tRecall:0.2916666666666667\tPrecision:0.5\tF1:0.3684210526315789\n"
   ]
  }
 ],
 "metadata": {
  "kernelspec": {
   "display_name": "Python 3",
   "language": "python",
   "name": "python3"
  },
  "language_info": {
   "codemirror_mode": {
    "name": "ipython",
    "version": 3
   },
   "file_extension": ".py",
   "mimetype": "text/x-python",
   "name": "python",
   "nbconvert_exporter": "python",
   "pygments_lexer": "ipython3",
   "version": "3.6.9"
  }
 },
 "nbformat": 4,
 "nbformat_minor": 2
}
